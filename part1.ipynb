{
 "cells": [
  {
   "attachments": {},
   "cell_type": "markdown",
   "metadata": {},
   "source": [
    "<h1>Part 1</h1>\n",
    "<ul>\n",
    "<li>fcond001@gold.ac.uk</li>\n",
    "<li>Filip Condac</li>\n",
    "<li>Student Number: 33643814</li>\n",
    "</ul>\n",
    "\n",
    "I worked alone"
   ]
  },
  {
   "cell_type": "code",
   "execution_count": 1,
   "metadata": {},
   "outputs": [],
   "source": [
    "import csv\n",
    "from collections import Counter\n",
    "from math import pow\n",
    "import numpy as np\n",
    "from sklearn.neighbors import KNeighborsClassifier"
   ]
  },
  {
   "cell_type": "code",
   "execution_count": 2,
   "metadata": {},
   "outputs": [],
   "source": [
    "\n",
    "#Load data from csv file\n",
    "def load_data(file_path):\n",
    "    data = []\n",
    "    labels = []\n",
    "    with open(file_path) as file:\n",
    "        reader = csv.reader(file)\n",
    "        next(reader)  # skip the header row\n",
    "        for row in reader:\n",
    "            #Convert the string data to float\n",
    "            data.append([float(x) for x in row[0:-1]])\n",
    "            #Add the label to the labels list\n",
    "            labels.append(row[-1])\n",
    "    return data, labels"
   ]
  },
  {
   "cell_type": "code",
   "execution_count": 3,
   "metadata": {},
   "outputs": [],
   "source": [
    "#Calculate the distance between two points using Minkowski distance formula\n",
    "def minkowski_distance(x, y, p):\n",
    "    distance = 0\n",
    "    for i in range(len(x)):\n",
    "        distance += pow(abs(x[i] - y[i]), p)\n",
    "    return pow(distance, 1/p)"
   ]
  },
  {
   "cell_type": "code",
   "execution_count": 4,
   "metadata": {},
   "outputs": [],
   "source": [
    "#Find the nearest neighbor\n",
    "def nearest_neighbor(train_data, train_labels, test_datum, p):\n",
    "    distances = []\n",
    "    for i in range(len(train_data)):\n",
    "        #Calculate the distance between the test datum and the current train datum\n",
    "        distance = minkowski_distance(train_data[i], test_datum, p)\n",
    "        #Add the distance and the index of the train datum to an ordered collection\n",
    "        distances.append((distance, train_labels[i]))\n",
    "    return min(distances)[1]"
   ]
  },
  {
   "cell_type": "code",
   "execution_count": 5,
   "metadata": {},
   "outputs": [],
   "source": [
    "\n",
    "#Classify the test data\n",
    "def classify(train_data, train_labels, test_data, p):\n",
    "    predicted_labels = []\n",
    "    for test_datum in test_data:\n",
    "        #Find the nearest neighbor\n",
    "        label = nearest_neighbor(train_data, train_labels, test_datum, p)\n",
    "        #Assign the label to the test datum\n",
    "        predicted_labels.append(label)\n",
    "    return predicted_labels"
   ]
  },
  {
   "cell_type": "code",
   "execution_count": 6,
   "metadata": {},
   "outputs": [],
   "source": [
    "\n",
    "#Calculate the accuracy, precision, recall and f1 measure\n",
    "def calculate_metrics(true_labels, predicted_labels):\n",
    "    tp, fp, tn, fn = 0, 0, 0, 0\n",
    "    for i in range(len(true_labels)):\n",
    "        #True positive\n",
    "        if true_labels[i] == 'M' and predicted_labels[i] == 'M':\n",
    "            tp += 1\n",
    "        elif true_labels[i] == 'R' and predicted_labels[i] == 'M':\n",
    "            #False positive\n",
    "            fp += 1\n",
    "        elif true_labels[i] == 'R' and predicted_labels[i] == 'R':\n",
    "            tn += 1\n",
    "            #False negative\n",
    "        else:\n",
    "            #True negative\n",
    "            fn += 1\n",
    "    #Calculate the accuracy, precision, recall and f1 measure            \n",
    "    accuracy = (tp + tn) / len(true_labels)\n",
    "    precision = tp / (tp + fp)\n",
    "    recall = tp / (tp + fn)\n",
    "    f1_measure = 2 * precision * recall / (precision + recall)\n",
    "    return accuracy, precision, recall, f1_measure"
   ]
  },
  {
   "cell_type": "code",
   "execution_count": 7,
   "metadata": {},
   "outputs": [
    {
     "name": "stdout",
     "output_type": "stream",
     "text": [
      "Using Manhattan\n",
      "Using Minkowski distance with p=1\n",
      "Accuracy: 0.884\n",
      "Precision: 0.854\n",
      "Recall: 0.946\n",
      "F1 Measure: 0.897\n",
      "\n",
      "Using Euclidean\n",
      "Using Minkowski distance with p=2\n",
      "Accuracy: 0.899\n",
      "Precision: 0.857\n",
      "Recall: 0.973\n",
      "F1 Measure: 0.911\n",
      "\n",
      "Using scikit-learn's KNeighborsClassifier with n_neighbors=1\n",
      "Accuracy: 0.899\n",
      "Precision: 0.857\n",
      "Recall: 0.973\n",
      "\n",
      "Using scikit-learn's KNeighborsClassifier with n_neighbors=2\n",
      "Accuracy: 0.725\n",
      "Precision: 0.667\n",
      "Recall: 0.973\n",
      "\n"
     ]
    }
   ],
   "source": [
    "#Main function to run the program and print the results\n",
    "if __name__ == '__main__':\n",
    "    train_data, train_labels = load_data('sonar_train.csv')\n",
    "    test_data, test_labels = load_data('sonar_test.csv')\n",
    "\n",
    "    # Using my version\n",
    "    for p in [1, 2]:\n",
    "        #Classify the test data\n",
    "        predicted_labels = classify(train_data, train_labels, test_data, p)\n",
    "        #Calculate the accuracy, precision, recall and f1 measure\n",
    "        accuracy, precision, recall, f1_measure = calculate_metrics(test_labels, predicted_labels)\n",
    "        if p==1 : \n",
    "            print(f'Using Manhattan')\n",
    "        else:\n",
    "            print(f'Using Euclidean')\n",
    "\n",
    "        print(f'Using Minkowski distance with p={p}')\n",
    "        print(f'Accuracy: {accuracy:.3f}')\n",
    "        print(f'Precision: {precision:.3f}')\n",
    "        print(f'Recall: {recall:.3f}')\n",
    "        print(f'F1 Measure: {f1_measure:.3f}\\n')\n",
    "\n",
    "    # using scikit-learn's version\n",
    "    for n_neighbors in [1, 2]:\n",
    "        #Create the KNN classifier\n",
    "        knn = KNeighborsClassifier(n_neighbors=n_neighbors)\n",
    "        #Train the classifier\n",
    "        knn.fit(train_data, train_labels)\n",
    "        #Predict the labels of the test data\n",
    "        predicted_labels = knn.predict(test_data)\n",
    "        #Calculate the accuracy, precision, recall and f1 measure\n",
    "        accuracy, precision, recall, f1_measure = calculate_metrics(test_labels, predicted_labels)\n",
    "        print(f'Using scikit-learn\\'s KNeighborsClassifier with n_neighbors={n_neighbors}')\n",
    "        print(f'Accuracy: {accuracy:.3f}')\n",
    "        print(f'Precision: {precision:.3f}')\n",
    "        print(f'Recall: {recall:.3f}\\n')\n",
    "       \n"
   ]
  },
  {
   "attachments": {},
   "cell_type": "markdown",
   "metadata": {},
   "source": [
    "**Evaluation of results**\n",
    "\n",
    "As we can see, the accuracy of the Nearest Neighbour algorithm with Minkowski distance varies from 0.884 to 0.899 depending on the value of the parameter p on the test dataset that has been provided. P=2, or the Euclidean distance, improves the algorithm's performance. The method tends to accurately classify the majority of the positive cases (metal cylinders), as evidenced by the precision values, which range from 0.854 to 0.857. Also, the algorithm tends to properly identify the majority of the positive cases out of all the actual positive cases in the test set, as demonstrated by its elevated recall values, which range from 0.946 to 0.973. There is a good balance in the F1 measure values, which range from 0.897 to 0.911."
   ]
  },
  {
   "attachments": {},
   "cell_type": "markdown",
   "metadata": {},
   "source": [
    "Using KNeighborsClassifier from scikit-learn, we can see that the approach works similarly to the Nearest Neighbor algorithm using Minkowski distance for k=1, but performs worse with k=2 as the accuracy falls to 0.725. This suggests that a reasonable option for this dataset is the more basic Nearest Neighbour algorithm using Minkowski distance."
   ]
  }
 ],
 "metadata": {
  "kernelspec": {
   "display_name": "Python 3",
   "language": "python",
   "name": "python3"
  },
  "language_info": {
   "codemirror_mode": {
    "name": "ipython",
    "version": 3
   },
   "file_extension": ".py",
   "mimetype": "text/x-python",
   "name": "python",
   "nbconvert_exporter": "python",
   "pygments_lexer": "ipython3",
   "version": "3.9.12"
  },
  "orig_nbformat": 4,
  "vscode": {
   "interpreter": {
    "hash": "b0fa6594d8f4cbf19f97940f81e996739fb7646882a419484c72d19e05852a7e"
   }
  }
 },
 "nbformat": 4,
 "nbformat_minor": 2
}
